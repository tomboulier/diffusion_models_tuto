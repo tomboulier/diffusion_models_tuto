{
 "cells": [
  {
   "cell_type": "markdown",
   "id": "3a847410",
   "metadata": {},
   "source": [
    "# Kaggle RSNA Intracranial Hemorrhage Detection\n",
    "\n",
    "Ce notebook utilise les données de la compétition [Kaggle RSNA Intracranial Hemorrhage Detection](https://www.kaggle.com/competitions/rsna-intracranial-hemorrhage-detection/overview) pour entraîner un modèle de diffusion stable à générer des images médicales.\n",
    "\n",
    "## Sommaire\n",
    "\n",
    "- [0. Importation des bibliothèques](#0-Importation-des-bibliothèques)\n",
    "- [1. Chargement et prétraitement des données](#1-Chargement-et-prétraitement-des-données)\n",
    "- [2. Définition du modèle de diffusion](#2-Définition-du-modèle-de-diffusion)\n",
    "- [3. Entraînement du modèle](#3-Entraînement-du-modèle)\n",
    "- [4. Génération d'images](#4-Génération-d'images)\n",
    "- [5. Conclusion](#5-Conclusion)\n",
    "\n",
    "## 0. Importation des bibliothèques"
   ]
  },
  {
   "cell_type": "code",
   "execution_count": 14,
   "id": "6f7c8c2b",
   "metadata": {},
   "outputs": [],
   "source": [
    "import pandas as pd\n",
    "from typing import List\n",
    "import subprocess\n",
    "from pathlib import Path\n",
    "import kaggle"
   ]
  },
  {
   "cell_type": "markdown",
   "id": "93d3ed85",
   "metadata": {},
   "source": [
    "## 1. Chargement et prétraitement des données\n",
    "\n",
    "Nous allons d'abord charger la liste des identifiants et labels du jeu de données d'entraînement. L'API Kaggle est une option, ou sinon vous pouvez télécharger le fichier CSV manuellement depuis la [page de la compétition](https://www.kaggle.com/competitions/rsna-intracranial-hemorrhage-detection/data) et le placer dans le répertoire `../data/rsna-intracranial-hemorrhage-detection`.  "
   ]
  },
  {
   "cell_type": "code",
   "execution_count": 15,
   "id": "bc4e9fa0",
   "metadata": {},
   "outputs": [],
   "source": [
    "COMPETITION_NAME = \"rsna-intracranial-hemorrhage-detection\"\n",
    "DATA_DIRECTORY = \"../data/\" + COMPETITION_NAME"
   ]
  },
  {
   "cell_type": "code",
   "execution_count": 16,
   "id": "ffeb78b6",
   "metadata": {},
   "outputs": [],
   "source": [
    "train_dataset_listing = pd.read_csv(f\"{DATA_DIRECTORY}/stage_2_train.csv\")"
   ]
  },
  {
   "cell_type": "code",
   "execution_count": 17,
   "id": "93a83b68",
   "metadata": {},
   "outputs": [
    {
     "data": {
      "text/html": [
       "<div>\n",
       "<style scoped>\n",
       "    .dataframe tbody tr th:only-of-type {\n",
       "        vertical-align: middle;\n",
       "    }\n",
       "\n",
       "    .dataframe tbody tr th {\n",
       "        vertical-align: top;\n",
       "    }\n",
       "\n",
       "    .dataframe thead th {\n",
       "        text-align: right;\n",
       "    }\n",
       "</style>\n",
       "<table border=\"1\" class=\"dataframe\">\n",
       "  <thead>\n",
       "    <tr style=\"text-align: right;\">\n",
       "      <th></th>\n",
       "      <th>ID</th>\n",
       "      <th>Label</th>\n",
       "    </tr>\n",
       "  </thead>\n",
       "  <tbody>\n",
       "    <tr>\n",
       "      <th>0</th>\n",
       "      <td>ID_12cadc6af_epidural</td>\n",
       "      <td>0</td>\n",
       "    </tr>\n",
       "    <tr>\n",
       "      <th>1</th>\n",
       "      <td>ID_12cadc6af_intraparenchymal</td>\n",
       "      <td>0</td>\n",
       "    </tr>\n",
       "    <tr>\n",
       "      <th>2</th>\n",
       "      <td>ID_12cadc6af_intraventricular</td>\n",
       "      <td>0</td>\n",
       "    </tr>\n",
       "    <tr>\n",
       "      <th>3</th>\n",
       "      <td>ID_12cadc6af_subarachnoid</td>\n",
       "      <td>0</td>\n",
       "    </tr>\n",
       "    <tr>\n",
       "      <th>4</th>\n",
       "      <td>ID_12cadc6af_subdural</td>\n",
       "      <td>0</td>\n",
       "    </tr>\n",
       "  </tbody>\n",
       "</table>\n",
       "</div>"
      ],
      "text/plain": [
       "                              ID  Label\n",
       "0          ID_12cadc6af_epidural      0\n",
       "1  ID_12cadc6af_intraparenchymal      0\n",
       "2  ID_12cadc6af_intraventricular      0\n",
       "3      ID_12cadc6af_subarachnoid      0\n",
       "4          ID_12cadc6af_subdural      0"
      ]
     },
     "execution_count": 17,
     "metadata": {},
     "output_type": "execute_result"
    }
   ],
   "source": [
    "train_dataset_listing.head()"
   ]
  },
  {
   "cell_type": "code",
   "execution_count": 18,
   "id": "e57885d0",
   "metadata": {},
   "outputs": [
    {
     "data": {
      "text/plain": [
       "array([0, 1])"
      ]
     },
     "execution_count": 18,
     "metadata": {},
     "output_type": "execute_result"
    }
   ],
   "source": [
    "train_dataset_listing['Label'].unique()"
   ]
  },
  {
   "cell_type": "markdown",
   "id": "71280dea",
   "metadata": {},
   "source": [
    "On voit donc que les \"ID\" sont de la forme \"ID_ImageID_HemorrhageType\", et que la colonne \"Label\" ne peut prendre que les valeurs 0 ou 1. Nous allons donc créer une nouvelle colonne \"ImageID\" qui ne contiendra que la partie \"ImageID\" de l'ID, et une colonne \"HemorrhageType\" qui contiendra la partie \"HemorrhageType\"."
   ]
  },
  {
   "cell_type": "code",
   "execution_count": 19,
   "id": "dc7a1620",
   "metadata": {},
   "outputs": [],
   "source": [
    "train_dataset_listing['HemorrhageType'] = train_dataset_listing['ID'].str.split(\"_\", n = 3, expand = True)[2]\n",
    "train_dataset_listing['ImageID'] = train_dataset_listing['ID'].str.split(\"_\", n = 3, expand = True)[1]\n"
   ]
  },
  {
   "cell_type": "code",
   "execution_count": 20,
   "id": "cb181103",
   "metadata": {},
   "outputs": [
    {
     "data": {
      "text/html": [
       "<div>\n",
       "<style scoped>\n",
       "    .dataframe tbody tr th:only-of-type {\n",
       "        vertical-align: middle;\n",
       "    }\n",
       "\n",
       "    .dataframe tbody tr th {\n",
       "        vertical-align: top;\n",
       "    }\n",
       "\n",
       "    .dataframe thead th {\n",
       "        text-align: right;\n",
       "    }\n",
       "</style>\n",
       "<table border=\"1\" class=\"dataframe\">\n",
       "  <thead>\n",
       "    <tr style=\"text-align: right;\">\n",
       "      <th></th>\n",
       "      <th>ID</th>\n",
       "      <th>Label</th>\n",
       "      <th>HemorrhageType</th>\n",
       "      <th>ImageID</th>\n",
       "    </tr>\n",
       "  </thead>\n",
       "  <tbody>\n",
       "    <tr>\n",
       "      <th>0</th>\n",
       "      <td>ID_12cadc6af_epidural</td>\n",
       "      <td>0</td>\n",
       "      <td>epidural</td>\n",
       "      <td>12cadc6af</td>\n",
       "    </tr>\n",
       "    <tr>\n",
       "      <th>1</th>\n",
       "      <td>ID_12cadc6af_intraparenchymal</td>\n",
       "      <td>0</td>\n",
       "      <td>intraparenchymal</td>\n",
       "      <td>12cadc6af</td>\n",
       "    </tr>\n",
       "    <tr>\n",
       "      <th>2</th>\n",
       "      <td>ID_12cadc6af_intraventricular</td>\n",
       "      <td>0</td>\n",
       "      <td>intraventricular</td>\n",
       "      <td>12cadc6af</td>\n",
       "    </tr>\n",
       "    <tr>\n",
       "      <th>3</th>\n",
       "      <td>ID_12cadc6af_subarachnoid</td>\n",
       "      <td>0</td>\n",
       "      <td>subarachnoid</td>\n",
       "      <td>12cadc6af</td>\n",
       "    </tr>\n",
       "    <tr>\n",
       "      <th>4</th>\n",
       "      <td>ID_12cadc6af_subdural</td>\n",
       "      <td>0</td>\n",
       "      <td>subdural</td>\n",
       "      <td>12cadc6af</td>\n",
       "    </tr>\n",
       "  </tbody>\n",
       "</table>\n",
       "</div>"
      ],
      "text/plain": [
       "                              ID  Label    HemorrhageType    ImageID\n",
       "0          ID_12cadc6af_epidural      0          epidural  12cadc6af\n",
       "1  ID_12cadc6af_intraparenchymal      0  intraparenchymal  12cadc6af\n",
       "2  ID_12cadc6af_intraventricular      0  intraventricular  12cadc6af\n",
       "3      ID_12cadc6af_subarachnoid      0      subarachnoid  12cadc6af\n",
       "4          ID_12cadc6af_subdural      0          subdural  12cadc6af"
      ]
     },
     "execution_count": 20,
     "metadata": {},
     "output_type": "execute_result"
    }
   ],
   "source": [
    "train_dataset_listing.head()"
   ]
  },
  {
   "cell_type": "markdown",
   "id": "a399cd56",
   "metadata": {},
   "source": [
    "Partant de là, on peut maintenant faire la liste des ImageID uniques :"
   ]
  },
  {
   "cell_type": "code",
   "execution_count": 21,
   "id": "e6c9080c",
   "metadata": {},
   "outputs": [
    {
     "name": "stdout",
     "output_type": "stream",
     "text": [
      "Number of unique ImageIDs: 752803\n"
     ]
    }
   ],
   "source": [
    "unique_image_ids = train_dataset_listing['ImageID'].unique()\n",
    "print(f\"Number of unique ImageIDs: {len(unique_image_ids)}\")"
   ]
  },
  {
   "cell_type": "markdown",
   "id": "0f500d7a",
   "metadata": {},
   "source": [
    "Nous allons pouvoir maintenant charger les images DICOM correspondantes à ces ImageID. Pour cela, nous allons créer une fonction qui, pour une liste d'ImageIDs donnée, charge l'image DICOM correspondante, dans un dossier spécifié."
   ]
  },
  {
   "cell_type": "code",
   "execution_count": 22,
   "id": "bad72cd2",
   "metadata": {},
   "outputs": [],
   "source": [
    "def download_images(image_ids: List[str],\n",
    "                    destination_directory: str = DATA_DIRECTORY):\n",
    "    \"\"\"\n",
    "    Download DICOM files from Kaggle CLI.\n",
    "\n",
    "    Parameters\n",
    "    ----------\n",
    "    image_ids : List[str]\n",
    "        List of DICOM IDs to download (without extension)\n",
    "    destination_directory : str\n",
    "        Path to the directory where to save the downloaded files\n",
    "    \"\"\"\n",
    "    Path(destination_directory).mkdir(parents=True, exist_ok=True)\n",
    "\n",
    "    for iid in image_ids:\n",
    "        remote_path = f\"rsna-intracranial-hemorrhage-detection/stage_2_train/ID_{iid}.dcm\"\n",
    "        subprocess.run(\n",
    "            [\n",
    "                \"kaggle\", \"competitions\", \"download\",\n",
    "                \"-c\", COMPETITION_NAME,\n",
    "                \"-f\", remote_path,\n",
    "                \"-p\", destination_directory\n",
    "            ],\n",
    "            check=True\n",
    "        )"
   ]
  },
  {
   "cell_type": "markdown",
   "id": "70d0a911",
   "metadata": {},
   "source": [
    "Testons cette fonction en téléchargeant les images correspondant aux 5 premiers ImageIDs uniques :"
   ]
  },
  {
   "cell_type": "code",
   "execution_count": 24,
   "id": "825e734f",
   "metadata": {},
   "outputs": [
    {
     "name": "stdout",
     "output_type": "stream",
     "text": [
      "Downloading ID_12cadc6af.dcm to ../data/rsna-intracranial-hemorrhage-detection\n",
      "\n"
     ]
    },
    {
     "name": "stderr",
     "output_type": "stream",
     "text": [
      "100%|██████████| 513k/513k [00:00<00:00, 377MB/s]\n"
     ]
    },
    {
     "name": "stdout",
     "output_type": "stream",
     "text": [
      "Downloading ID_38fd7baa0.dcm to ../data/rsna-intracranial-hemorrhage-detection\n",
      "\n"
     ]
    },
    {
     "name": "stderr",
     "output_type": "stream",
     "text": [
      "100%|██████████| 513k/513k [00:00<00:00, 1.48GB/s]\n"
     ]
    },
    {
     "name": "stdout",
     "output_type": "stream",
     "text": [
      "Downloading ID_6c5d82413.dcm to ../data/rsna-intracranial-hemorrhage-detection\n",
      "\n"
     ]
    },
    {
     "name": "stderr",
     "output_type": "stream",
     "text": [
      "100%|██████████| 513k/513k [00:00<00:00, 465MB/s]\n"
     ]
    },
    {
     "name": "stdout",
     "output_type": "stream",
     "text": [
      "Downloading ID_aec8e68b3.dcm to ../data/rsna-intracranial-hemorrhage-detection\n",
      "\n"
     ]
    },
    {
     "name": "stderr",
     "output_type": "stream",
     "text": [
      "100%|██████████| 513k/513k [00:00<00:00, 1.26GB/s]\n"
     ]
    },
    {
     "name": "stdout",
     "output_type": "stream",
     "text": [
      "Downloading ID_4d9209c7c.dcm to ../data/rsna-intracranial-hemorrhage-detection\n",
      "\n"
     ]
    },
    {
     "name": "stderr",
     "output_type": "stream",
     "text": [
      "100%|██████████| 513k/513k [00:00<00:00, 846MB/s]\n"
     ]
    }
   ],
   "source": [
    "first_5_image_ids = unique_image_ids[:5]\n",
    "download_images(first_5_image_ids)"
   ]
  },
  {
   "cell_type": "markdown",
   "id": "77a69c04",
   "metadata": {},
   "source": [
    "Maintenant que nous avons les images, nous allons les visualiser pour vérifier que tout est correct :"
   ]
  },
  {
   "cell_type": "code",
   "execution_count": 25,
   "id": "e6138e61",
   "metadata": {},
   "outputs": [],
   "source": [
    "def list_downloaded_images(destination_directory: str = DATA_DIRECTORY) -> List[Path]:\n",
    "    \"\"\"\n",
    "    List all downloaded DICOM files in the destination directory.\n",
    "\n",
    "    Parameters\n",
    "    ----------\n",
    "    destination_directory : str\n",
    "        Path to the directory where the files are saved\n",
    "\n",
    "    Returns\n",
    "    -------\n",
    "    List[Path]\n",
    "        List of paths to the downloaded DICOM files\n",
    "    \"\"\"\n",
    "    return list(Path(destination_directory).glob(\"ID_*.dcm\"))"
   ]
  },
  {
   "cell_type": "code",
   "execution_count": 26,
   "id": "a4d4c4f8",
   "metadata": {},
   "outputs": [
    {
     "data": {
      "text/plain": [
       "[PosixPath('../data/rsna-intracranial-hemorrhage-detection/ID_aec8e68b3.dcm'),\n",
       " PosixPath('../data/rsna-intracranial-hemorrhage-detection/ID_6c5d82413.dcm'),\n",
       " PosixPath('../data/rsna-intracranial-hemorrhage-detection/ID_12cadc6af.dcm'),\n",
       " PosixPath('../data/rsna-intracranial-hemorrhage-detection/ID_4d9209c7c.dcm'),\n",
       " PosixPath('../data/rsna-intracranial-hemorrhage-detection/ID_38fd7baa0.dcm')]"
      ]
     },
     "execution_count": 26,
     "metadata": {},
     "output_type": "execute_result"
    }
   ],
   "source": [
    "list_downloaded_images()"
   ]
  },
  {
   "cell_type": "code",
   "execution_count": 28,
   "id": "c6025daf",
   "metadata": {},
   "outputs": [],
   "source": [
    "import pydicom\n",
    "import matplotlib.pyplot as plt\n",
    "\n",
    "def visualize_image(image_id: str,\n",
    "                    destination_directory: str = DATA_DIRECTORY):\n",
    "    \"\"\"\n",
    "    Visualize a DICOM image.\n",
    "\n",
    "    Parameters\n",
    "    ----------\n",
    "    image_id : str\n",
    "        ID of the DICOM file to visualize (without extension)\n",
    "    destination_directory : str\n",
    "        Path to the directory where the files are saved\n",
    "    \"\"\"\n",
    "    dicom_path = Path(destination_directory) / f\"ID_{image_id}.dcm\"\n",
    "    dicom_data = pydicom.dcmread(dicom_path)\n",
    "    plt.imshow(dicom_data.pixel_array, cmap=plt.cm.gray)\n",
    "    plt.title(f\"Image ID: {image_id}\")\n",
    "    plt.axis('off')\n",
    "    plt.show()"
   ]
  },
  {
   "cell_type": "code",
   "execution_count": 29,
   "id": "977482ee",
   "metadata": {},
   "outputs": [
    {
     "data": {
      "image/png": "[encoded data removed]",
      "text/plain": [
       "<Figure size 640x480 with 1 Axes>"
      ]
     },
     "metadata": {},
     "output_type": "display_data"
    }
   ],
   "source": [
    "visualize_image(first_5_image_ids[0])"
   ]
  }
 ],
 "metadata": {
  "kernelspec": {
   "display_name": "diffusion_models_tuto",
   "language": "python",
   "name": "python3"
  },
  "language_info": {
   "codemirror_mode": {
    "name": "ipython",
    "version": 3
   },
   "file_extension": ".py",
   "mimetype": "text/x-python",
   "name": "python",
   "nbconvert_exporter": "python",
   "pygments_lexer": "ipython3",
   "version": "3.12.11"
  }
 },
 "nbformat": 4,
 "nbformat_minor": 5
}
