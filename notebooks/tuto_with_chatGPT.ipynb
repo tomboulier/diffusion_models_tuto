{
 "cells": [
  {
   "cell_type": "markdown",
   "id": "ee811df2-8e21-4ae5-a658-997467c852f9",
   "metadata": {},
   "source": [
    "# Tutoriel avec ChatGPT\n",
    "\n",
    "Ce tutoriel a été créé en collaboration avec ChatGPT pour aider à comprendre et à utiliser les modèles de diffusion en intelligence artificielle générative.\n",
    "\n",
    "Il se base notamment sur le livre \"Generative Deep Learning\" de David Foster (voir le [notebook associé](https://github.com/tomboulier/Generative_Deep_Learning_2nd_Edition/blob/main/notebooks/08_diffusion/01_ddm/ddm.ipynb) pour plus de détails), qui lui-même s'inspire du tutoriel [Denoising Diffusion Implicit Models](https://keras.io/examples/generative/ddim/) d'András Béres. Je voulais les adapter pour qu'ils utilisent les données de [MedMNIST](https://medmnist.com/)."
   ]
  },
  {
   "cell_type": "markdown",
   "id": "a95a18f3",
   "metadata": {},
   "source": [
    "# Chargement du jeu de données\n",
    "\n",
    "Nous allons charger le jeu de données MedMNIST pour l'utiliser dans notre tutoriel. En particulier, nous prendrons les radiographies thoraciques (ChestMNIST)."
   ]
  },
  {
   "cell_type": "code",
   "execution_count": 1,
   "id": "4baf935d",
   "metadata": {},
   "outputs": [
    {
     "name": "stderr",
     "output_type": "stream",
     "text": [
      "100%|██████████| 82.8M/82.8M [00:17<00:00, 4.62MB/s]\n"
     ]
    }
   ],
   "source": [
    "from medmnist import ChestMNIST\n",
    "\n",
    "train_dataset = ChestMNIST(split=\"train\", download=True)"
   ]
  },
  {
   "cell_type": "markdown",
   "id": "589291f7",
   "metadata": {},
   "source": [
    "Maintenant que le jeu de données est chargé, nous allons faire de la visualisation simple pour mieux comprendre son contenu."
   ]
  },
  {
   "cell_type": "code",
   "execution_count": 4,
   "id": "669dd4e0",
   "metadata": {},
   "outputs": [
    {
     "name": "stdout",
     "output_type": "stream",
     "text": [
      "<PIL.Image.Image image mode=L size=28x28 at 0x7F213C31DBB0> [0 0 0 0 0 0 0 0 0 0 0 0 0 0]\n"
     ]
    }
   ],
   "source": [
    "# regarder une seule image\n",
    "img, label = train_dataset[0]\n",
    "print((img), label)"
   ]
  },
  {
   "cell_type": "markdown",
   "id": "cd53d7f7",
   "metadata": {},
   "source": [
    "Ce sont donc des images au format PIL (Python Imaging Library, déprécié mais dont le fork [Pillow](https://pypi.org/project/pillow/) est largement utilisé). Pour les visualiser avec Matplotlib, nous devons d'abord les convertir en tableaux NumPy."
   ]
  },
  {
   "cell_type": "code",
   "execution_count": 5,
   "id": "1ef7f645",
   "metadata": {},
   "outputs": [
    {
     "name": "stdout",
     "output_type": "stream",
     "text": [
      "(28, 28) uint8 [0 0 0 0 0 0 0 0 0 0 0 0 0 0]\n"
     ]
    },
    {
     "data": {
      "image/png": "[encoded data removed]",
      "text/plain": [
       "<Figure size 640x480 with 1 Axes>"
      ]
     },
     "metadata": {},
     "output_type": "display_data"
    }
   ],
   "source": [
    "import numpy as np\n",
    "import matplotlib.pyplot as plt\n",
    "\n",
    "img, label = train_dataset[0]\n",
    "img_np = np.array(img)   # conversion en array\n",
    "print(img_np.shape, img_np.dtype, label)\n",
    "\n",
    "plt.imshow(img_np, cmap=\"gray\")\n",
    "plt.title(f\"Label = {label}\")\n",
    "plt.show()"
   ]
  }
 ],
 "metadata": {
  "kernelspec": {
   "display_name": "diffusion-models-tuto",
   "language": "python",
   "name": "python3"
  },
  "language_info": {
   "codemirror_mode": {
    "name": "ipython",
    "version": 3
   },
   "file_extension": ".py",
   "mimetype": "text/x-python",
   "name": "python",
   "nbconvert_exporter": "python",
   "pygments_lexer": "ipython3",
   "version": "3.12.3"
  }
 },
 "nbformat": 4,
 "nbformat_minor": 5
}
