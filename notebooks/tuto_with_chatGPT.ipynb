{
 "cells": [
  {
   "cell_type": "markdown",
   "id": "ee811df2-8e21-4ae5-a658-997467c852f9",
   "metadata": {},
   "source": [
    "# Tutoriel avec ChatGPT\n",
    "\n",
    "Ce tutoriel a été créé en collaboration avec ChatGPT pour aider à comprendre et à utiliser les modèles de diffusion en intelligence artificielle générative.\n",
    "\n",
    "Il se base notamment sur le livre \"Generative Deep Learning\" de David Foster (voir le [notebook associé](https://github.com/tomboulier/Generative_Deep_Learning_2nd_Edition/blob/main/notebooks/08_diffusion/01_ddm/ddm.ipynb) pour plus de détails), qui lui-même s'inspire du tutoriel [Denoising Diffusion Implicit Models](https://keras.io/examples/generative/ddim/) d'András Béres. Je voulais les adapter pour qu'ils utilisent les données de [MedMNIST](https://medmnist.com/)."
   ]
  },
  {
   "cell_type": "markdown",
   "id": "a95a18f3",
   "metadata": {},
   "source": [
    "# Chargement du jeu de données\n",
    "\n",
    "Nous allons charger le jeu de données MedMNIST pour l'utiliser dans notre tutoriel. En particulier, nous prendrons les radiographies thoraciques (ChestMNIST)."
   ]
  },
  {
   "cell_type": "code",
   "execution_count": null,
   "id": "4baf935d",
   "metadata": {},
   "outputs": [],
   "source": [
    "from medmnist import ChestMNIST\n",
    "\n",
    "train_dataset = ChestMNIST(split=\"train\", download=True)"
   ]
  }
 ],
 "metadata": {
  "kernelspec": {
   "display_name": "diffusion-models-tuto",
   "language": "python",
   "name": "python3"
  },
  "language_info": {
   "name": "python",
   "version": "3.12.3"
  }
 },
 "nbformat": 4,
 "nbformat_minor": 5
}
